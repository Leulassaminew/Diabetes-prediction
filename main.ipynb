import numpy as np
import pandas as pd
from sklearn.preprocessing import StandardScaler
from sklearn.model_selection import train_test_split
from sklearn import svm
from sklearn.metrics import accuracy_score
diabetes_database = pd.read_csv('diabetes.csv')
x = diabetes_database.drop(columns = 'Outcome',axis = 1)
y = diabetes_database['Outcome']
scaler = StandardScaler()
scaler.fit(x)
standardized_data = scaler.transform(x)
x=standardized_data
y=diabetes_database['Outcome']
x_train,x_test,y_train,y_test = train_test_split(x,y,test_size=0.2,stratify=y,random_state=2)
classifier = svm.SVC(kernel='linear')
classifier.fit(x_train,y_train)
x_train_prediction = classifier.predict(x_train)
training_data_accuracy = accuracy_score(x_train_prediction,y_train)
print("the accuracy of the model on training data is ",training_data_accuracy)
x_test_prediction = classifier.predict(x_test)
test_data_accuracy = accuracy_score(x_test_prediction,y_test)
print("the accuracy of the model on test data is ",test_data_accuracy)
input = (3,78,50,32,88,31,0.248,26)

input_data = np.asarray(input)
input_reshaped = input_data.reshape(1,-1)
std_data = scaler.transform(input_reshaped)
print(std_data)
prediction = classifier.predict(std_data)
if(prediction==0):
  print("The person is not diabetic")
else:
  print("The person is diabetic")
